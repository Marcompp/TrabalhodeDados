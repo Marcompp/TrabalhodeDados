{
 "cells": [
  {
   "cell_type": "markdown",
   "metadata": {},
   "source": [
    "___\n",
    "# Ciência dos Dados - PROJETO 1"
   ]
  },
  {
   "cell_type": "markdown",
   "metadata": {},
   "source": [
    "## Marco Moliterno Pena Piacentini\n"
   ]
  },
  {
   "cell_type": "markdown",
   "metadata": {},
   "source": [
    "## A renda afeta como as pessoas usam a internet?\n"
   ]
  },
  {
   "cell_type": "markdown",
   "metadata": {},
   "source": [
    "___\n",
    "## Introdução\n",
    "\n",
    "Em um mundo cada vez mais digitalizado, o acesso à internet é essencial para a inclusão das pessoas na sociedade. É crescente a possibilidade de se comunicar, usufruir serviços públicos, comprar ou vender bens e serviços, receber notícias, acessar conteúdos educacionais, e buscar qualquer tipo de informação pelo computador. A internet encurta distâncias, distribui conhecimento e abre oportunidades, enquanto a falta de conexão aprofunda as desigualdades. Neste estudo exploratório, investiguei a relação entre renda e acesso à internet. Foi feita uma análise de dados com base em pesquisas PNAD 2015 para caracterizar os domicílios brasileiros quanto ao acesso à internet e verificar se a renda de fato afeta o acesso à internet e a maneira com que aqueles que o têm se relacionam com ela.\n",
    "A hipótese inicial seria de que quanto maior a renda, maior o acesso à internet e maior a variedade de aparelhos usados para acessá-la."
   ]
  },
  {
   "cell_type": "markdown",
   "metadata": {},
   "source": [
    "___\n",
    "## Análise e Resultados"
   ]
  },
  {
   "cell_type": "code",
   "execution_count": 276,
   "metadata": {
    "collapsed": true,
    "scrolled": true
   },
   "outputs": [],
   "source": [
    "%matplotlib inline\n",
    "import pandas as pd\n",
    "import matplotlib.pyplot as plt\n",
    "import numpy as np\n",
    "import os\n",
    "\n",
    "dados = pd.read_csv('DOM2015.csv',sep=',')"
   ]
  },
  {
   "cell_type": "code",
   "execution_count": 277,
   "metadata": {},
   "outputs": [
    {
     "name": "stdout",
     "output_type": "stream",
     "text": [
      "Como que as pessoas utilizam a internet?\n",
      "C:\\Users\\marco\\Desktop\\Insper\\Ciencia dos Dados\\Projeto1\n"
     ]
    }
   ],
   "source": [
    "print('Como que as pessoas utilizam a internet?')\n",
    "print(os.getcwd())"
   ]
  },
  {
   "cell_type": "markdown",
   "metadata": {},
   "source": [
    "#Primeiro vamos descobrir quantos porcento dos domicílios brasileiros tem acesso a internet."
   ]
  },
  {
   "cell_type": "code",
   "execution_count": 282,
   "metadata": {},
   "outputs": [],
   "source": [
    "df = {}\n",
    "df['ACESSO'] = dados['V02322']\n",
    "df['MICRO'] = dados['V02323']\n",
    "df['CELULAR'] = dados['V02324']\n",
    "df['TABLET'] = dados['V02325']\n",
    "df['TV']=dados['V02326']\n",
    "df['OUTROS'] = dados['V02327']\n",
    "df['RENDA'] = dados['V4622']\n",
    "#df['RENDAA'] = dados['V4621']\n",
    "df = pd.DataFrame.from_dict(df)\n",
    "#df.head()"
   ]
  },
  {
   "cell_type": "code",
   "execution_count": 283,
   "metadata": {},
   "outputs": [
    {
     "name": "stdout",
     "output_type": "stream",
     "text": [
      "Tem acesso        57.7\n",
      "Não tem acesso    42.3\n",
      "Name: ACESSO, dtype: float64 \n",
      "\n"
     ]
    },
    {
     "data": {
      "image/png": "[encoded data removed]",
      "text/plain": [
       "<matplotlib.figure.Figure at 0x227109d0550>"
      ]
     },
     "metadata": {},
     "output_type": "display_data"
    }
   ],
   "source": [
    "df2 = df.ACESSO#.dropna()\n",
    "df2 = df2.astype('category')\n",
    "df2.cat.categories = ('Tem acesso', 'Não tem acesso')\n",
    "df2 = (df2.value_counts(normalize=True)*100).round(decimals=1)#.reindex(['SIM','NÃO'])\n",
    "\n",
    "\n",
    "\n",
    "print(df2,'\\n')\n",
    "# Gráfico de Setor\n",
    "plot = df2.plot(kind='pie',title='Porcentagem de Domicílios com Acesso a Internet',autopct='%.1f',figsize=(6, 6))"
   ]
  },
  {
   "cell_type": "markdown",
   "metadata": {},
   "source": [
    "#Agora descobriremos como esse acesso é distribuido por renda."
   ]
  },
  {
   "cell_type": "code",
   "execution_count": 274,
   "metadata": {},
   "outputs": [
    {
     "data": {
      "text/html": [
       "<div>\n",
       "<style>\n",
       "    .dataframe thead tr:only-child th {\n",
       "        text-align: right;\n",
       "    }\n",
       "\n",
       "    .dataframe thead th {\n",
       "        text-align: left;\n",
       "    }\n",
       "\n",
       "    .dataframe tbody tr th {\n",
       "        vertical-align: top;\n",
       "    }\n",
       "</style>\n",
       "<table border=\"1\" class=\"dataframe\">\n",
       "  <thead>\n",
       "    <tr style=\"text-align: right;\">\n",
       "      <th>Salários Mínimos</th>\n",
       "      <th>0</th>\n",
       "      <th>1/4</th>\n",
       "      <th>1/2</th>\n",
       "      <th>1</th>\n",
       "      <th>2</th>\n",
       "      <th>3</th>\n",
       "      <th>5</th>\n",
       "      <th>5+</th>\n",
       "      <th>All</th>\n",
       "    </tr>\n",
       "    <tr>\n",
       "      <th>Acesso à Internet</th>\n",
       "      <th></th>\n",
       "      <th></th>\n",
       "      <th></th>\n",
       "      <th></th>\n",
       "      <th></th>\n",
       "      <th></th>\n",
       "      <th></th>\n",
       "      <th></th>\n",
       "      <th></th>\n",
       "    </tr>\n",
       "  </thead>\n",
       "  <tbody>\n",
       "    <tr>\n",
       "      <th>Sim</th>\n",
       "      <td>49.0</td>\n",
       "      <td>29.0</td>\n",
       "      <td>44.0</td>\n",
       "      <td>50.0</td>\n",
       "      <td>63.0</td>\n",
       "      <td>76.0</td>\n",
       "      <td>85.0</td>\n",
       "      <td>91.0</td>\n",
       "      <td>58.0</td>\n",
       "    </tr>\n",
       "    <tr>\n",
       "      <th>Não</th>\n",
       "      <td>51.0</td>\n",
       "      <td>71.0</td>\n",
       "      <td>56.0</td>\n",
       "      <td>50.0</td>\n",
       "      <td>37.0</td>\n",
       "      <td>24.0</td>\n",
       "      <td>15.0</td>\n",
       "      <td>9.0</td>\n",
       "      <td>42.0</td>\n",
       "    </tr>\n",
       "    <tr>\n",
       "      <th>All</th>\n",
       "      <td>100.0</td>\n",
       "      <td>100.0</td>\n",
       "      <td>100.0</td>\n",
       "      <td>100.0</td>\n",
       "      <td>100.0</td>\n",
       "      <td>100.0</td>\n",
       "      <td>100.0</td>\n",
       "      <td>100.0</td>\n",
       "      <td>100.0</td>\n",
       "    </tr>\n",
       "  </tbody>\n",
       "</table>\n",
       "</div>"
      ],
      "text/plain": [
       "Salários Mínimos       0    1/4    1/2      1      2      3      5     5+  \\\n",
       "Acesso à Internet                                                           \n",
       "Sim                 49.0   29.0   44.0   50.0   63.0   76.0   85.0   91.0   \n",
       "Não                 51.0   71.0   56.0   50.0   37.0   24.0   15.0    9.0   \n",
       "All                100.0  100.0  100.0  100.0  100.0  100.0  100.0  100.0   \n",
       "\n",
       "Salários Mínimos     All  \n",
       "Acesso à Internet         \n",
       "Sim                 58.0  \n",
       "Não                 42.0  \n",
       "All                100.0  "
      ]
     },
     "execution_count": 274,
     "metadata": {},
     "output_type": "execute_result"
    }
   ],
   "source": [
    "df3 ={}\n",
    "df3['ACESSO'] = dados['V02322']\n",
    "df3['RENDA'] = dados['V4622']\n",
    "df3 = pd.DataFrame.from_dict(df3)\n",
    "df3.ACESSO = df3.ACESSO.astype('category')\n",
    "df3.ACESSO.cat.categories = ('Sim', 'Não')\n",
    "df3.RENDA = df3.RENDA.astype('category')\n",
    "df3.RENDA.cat.categories = ('0', '1/4','1/2','1','2','3','5','5+','SD')\n",
    "df3 = df3.dropna()\n",
    "df3 = df3[df3['RENDA'] != 'SD'].dropna(axis=0)\n",
    "ct=pd.crosstab(df3.ACESSO,df3.RENDA,margins=True,rownames=['Acesso à Internet'], colnames=['Salários Mínimos']).apply(percConvert, axis=0)\n",
    "ct"
   ]
  },
  {
   "cell_type": "code",
   "execution_count": 275,
   "metadata": {},
   "outputs": [
    {
     "data": {
      "text/plain": [
       "<matplotlib.text.Text at 0x2270dfb3748>"
      ]
     },
     "execution_count": 275,
     "metadata": {},
     "output_type": "execute_result"
    },
    {
     "data": {
      "image/png": "[encoded data removed]",
      "text/plain": [
       "<matplotlib.figure.Figure at 0x2270dfca4e0>"
      ]
     },
     "metadata": {},
     "output_type": "display_data"
    }
   ],
   "source": [
    "ct = ct[0:1]\n",
    "plot = ct.plot(kind='bar',title='Acesso à Internet por Renda',figsize=(6, 6))\n",
    "plt.ylabel('Frequencia (%)')\n",
    "plt.xlabel('Renda(Salários Mínimos)')"
   ]
  },
  {
   "cell_type": "markdown",
   "metadata": {},
   "source": [
    "#Como o esperado, o acesso à internet aumenta com a renda, com a excessão dos domicílios com renda 0."
   ]
  },
  {
   "cell_type": "code",
   "execution_count": 252,
   "metadata": {},
   "outputs": [
    {
     "data": {
      "text/plain": [
       "Sim    66332\n",
       "Não        0\n",
       "Name: ACESSO, dtype: int64"
      ]
     },
     "execution_count": 252,
     "metadata": {},
     "output_type": "execute_result"
    }
   ],
   "source": [
    "\n",
    "df.ACESSO = df.ACESSO.astype('category')\n",
    "df.MICRO = df.MICRO.astype('category')\n",
    "df.CELULAR = df.CELULAR.astype('category')\n",
    "df.TABLET = df.TABLET.astype('category')\n",
    "df.TV = df.TV.astype('category')\n",
    "df.OUTROS = df.OUTROS.astype('category')\n",
    "df.RENDA = df.RENDA.astype('category')\n",
    "\n",
    "df.ACESSO.cat.categories = ('Sim', 'Não')\n",
    "df.MICRO.cat.categories = ('Sim', 'Não')\n",
    "df.CELULAR.cat.categories = ('Sim', 'Não')\n",
    "df.TABLET.cat.categories = ('Sim', 'Não')\n",
    "df.TV.cat.categories = ('Sim', 'Não')\n",
    "df.OUTROS.cat.categories = ('Sim', 'Não')\n",
    "df.RENDA.cat.categories = ('0', '1/4','1/2','1','2','3','5','5+','SD')\n",
    "df = df.dropna()\n",
    "df.head()\n",
    "\n",
    "df = df[df['RENDA'] != 'SD'].dropna(axis=0)\n",
    "#df = df[df['RENDAA'] != 999999999999].dropna(axis=0)\n",
    "\n",
    "df.ACESSO.value_counts()"
   ]
  },
  {
   "cell_type": "markdown",
   "metadata": {},
   "source": [
    "#Agora descobriremos como que a renda afeta o aparelho com que as pessoas usam a Internet entre os domicílios que tem acesso."
   ]
  },
  {
   "cell_type": "code",
   "execution_count": 253,
   "metadata": {},
   "outputs": [
    {
     "name": "stdout",
     "output_type": "stream",
     "text": [
      "Não    61611\n",
      "Sim     4721\n",
      "Name: TV, dtype: int64\n"
     ]
    },
    {
     "data": {
      "text/html": [
       "<div>\n",
       "<style>\n",
       "    .dataframe thead tr:only-child th {\n",
       "        text-align: right;\n",
       "    }\n",
       "\n",
       "    .dataframe thead th {\n",
       "        text-align: left;\n",
       "    }\n",
       "\n",
       "    .dataframe tbody tr th {\n",
       "        vertical-align: top;\n",
       "    }\n",
       "</style>\n",
       "<table border=\"1\" class=\"dataframe\">\n",
       "  <thead>\n",
       "    <tr style=\"text-align: right;\">\n",
       "      <th>Salários Mínimos</th>\n",
       "      <th>0</th>\n",
       "      <th>1/4</th>\n",
       "      <th>1/2</th>\n",
       "      <th>1</th>\n",
       "      <th>2</th>\n",
       "      <th>3</th>\n",
       "      <th>5</th>\n",
       "      <th>5+</th>\n",
       "      <th>All</th>\n",
       "    </tr>\n",
       "    <tr>\n",
       "      <th>Acesso por TV</th>\n",
       "      <th></th>\n",
       "      <th></th>\n",
       "      <th></th>\n",
       "      <th></th>\n",
       "      <th></th>\n",
       "      <th></th>\n",
       "      <th></th>\n",
       "      <th></th>\n",
       "      <th></th>\n",
       "    </tr>\n",
       "  </thead>\n",
       "  <tbody>\n",
       "    <tr>\n",
       "      <th>Sim</th>\n",
       "      <td>5.0</td>\n",
       "      <td>1.0</td>\n",
       "      <td>2.0</td>\n",
       "      <td>3.0</td>\n",
       "      <td>6.0</td>\n",
       "      <td>10.0</td>\n",
       "      <td>16.0</td>\n",
       "      <td>25.0</td>\n",
       "      <td>7.0</td>\n",
       "    </tr>\n",
       "    <tr>\n",
       "      <th>Não</th>\n",
       "      <td>95.0</td>\n",
       "      <td>99.0</td>\n",
       "      <td>98.0</td>\n",
       "      <td>97.0</td>\n",
       "      <td>94.0</td>\n",
       "      <td>90.0</td>\n",
       "      <td>84.0</td>\n",
       "      <td>75.0</td>\n",
       "      <td>93.0</td>\n",
       "    </tr>\n",
       "    <tr>\n",
       "      <th>All</th>\n",
       "      <td>100.0</td>\n",
       "      <td>100.0</td>\n",
       "      <td>100.0</td>\n",
       "      <td>100.0</td>\n",
       "      <td>100.0</td>\n",
       "      <td>100.0</td>\n",
       "      <td>100.0</td>\n",
       "      <td>100.0</td>\n",
       "      <td>100.0</td>\n",
       "    </tr>\n",
       "  </tbody>\n",
       "</table>\n",
       "</div>"
      ],
      "text/plain": [
       "Salários Mínimos      0    1/4    1/2      1      2      3      5     5+  \\\n",
       "Acesso por TV                                                              \n",
       "Sim                 5.0    1.0    2.0    3.0    6.0   10.0   16.0   25.0   \n",
       "Não                95.0   99.0   98.0   97.0   94.0   90.0   84.0   75.0   \n",
       "All               100.0  100.0  100.0  100.0  100.0  100.0  100.0  100.0   \n",
       "\n",
       "Salários Mínimos    All  \n",
       "Acesso por TV            \n",
       "Sim                 7.0  \n",
       "Não                93.0  \n",
       "All               100.0  "
      ]
     },
     "execution_count": 253,
     "metadata": {},
     "output_type": "execute_result"
    }
   ],
   "source": [
    "ct = df.TV.value_counts()\n",
    "print(ct)\n",
    "\n",
    "def percConvert(tab):\n",
    "  return (tab/float(tab[-1])*100).round(decimals=0)\n",
    "\n",
    "\n",
    "ct1=pd.crosstab(df.TV,df.RENDA,margins=True,rownames=['Acesso por TV'], colnames=['Salários Mínimos']).apply(percConvert, axis=0)\n",
    "ct1\n"
   ]
  },
  {
   "cell_type": "code",
   "execution_count": 254,
   "metadata": {},
   "outputs": [
    {
     "data": {
      "text/plain": [
       "<matplotlib.text.Text at 0x2270b211a90>"
      ]
     },
     "execution_count": 254,
     "metadata": {},
     "output_type": "execute_result"
    },
    {
     "data": {
      "image/png": "[encoded data removed]",
      "text/plain": [
       "<matplotlib.figure.Figure at 0x2270bc43e48>"
      ]
     },
     "metadata": {},
     "output_type": "display_data"
    }
   ],
   "source": [
    "ct1 = ct1.iloc[0:1]\n",
    "plot = ct1.plot(kind='bar',title='Acesso à Internet pela TV por Renda',figsize=(6, 6))\n",
    "plt.ylabel('Frequencia (%)')\n",
    "\n",
    "plt.xlabel('Renda(Salários Mínimos)')"
   ]
  },
  {
   "cell_type": "markdown",
   "metadata": {},
   "source": [
    "#O uso da TV para acessar à Internet aumenta muito com a renda."
   ]
  },
  {
   "cell_type": "code",
   "execution_count": 255,
   "metadata": {},
   "outputs": [
    {
     "data": {
      "text/html": [
       "<div>\n",
       "<style>\n",
       "    .dataframe thead tr:only-child th {\n",
       "        text-align: right;\n",
       "    }\n",
       "\n",
       "    .dataframe thead th {\n",
       "        text-align: left;\n",
       "    }\n",
       "\n",
       "    .dataframe tbody tr th {\n",
       "        vertical-align: top;\n",
       "    }\n",
       "</style>\n",
       "<table border=\"1\" class=\"dataframe\">\n",
       "  <thead>\n",
       "    <tr style=\"text-align: right;\">\n",
       "      <th>Salários Mínimos</th>\n",
       "      <th>0</th>\n",
       "      <th>1/4</th>\n",
       "      <th>1/2</th>\n",
       "      <th>1</th>\n",
       "      <th>2</th>\n",
       "      <th>3</th>\n",
       "      <th>5</th>\n",
       "      <th>5+</th>\n",
       "      <th>All</th>\n",
       "    </tr>\n",
       "    <tr>\n",
       "      <th>Acesso por Celular</th>\n",
       "      <th></th>\n",
       "      <th></th>\n",
       "      <th></th>\n",
       "      <th></th>\n",
       "      <th></th>\n",
       "      <th></th>\n",
       "      <th></th>\n",
       "      <th></th>\n",
       "      <th></th>\n",
       "    </tr>\n",
       "  </thead>\n",
       "  <tbody>\n",
       "    <tr>\n",
       "      <th>Sim</th>\n",
       "      <td>93.0</td>\n",
       "      <td>94.0</td>\n",
       "      <td>94.0</td>\n",
       "      <td>93.0</td>\n",
       "      <td>92.0</td>\n",
       "      <td>92.0</td>\n",
       "      <td>92.0</td>\n",
       "      <td>94.0</td>\n",
       "      <td>93.0</td>\n",
       "    </tr>\n",
       "    <tr>\n",
       "      <th>Não</th>\n",
       "      <td>7.0</td>\n",
       "      <td>6.0</td>\n",
       "      <td>6.0</td>\n",
       "      <td>7.0</td>\n",
       "      <td>8.0</td>\n",
       "      <td>8.0</td>\n",
       "      <td>8.0</td>\n",
       "      <td>6.0</td>\n",
       "      <td>7.0</td>\n",
       "    </tr>\n",
       "    <tr>\n",
       "      <th>All</th>\n",
       "      <td>100.0</td>\n",
       "      <td>100.0</td>\n",
       "      <td>100.0</td>\n",
       "      <td>100.0</td>\n",
       "      <td>100.0</td>\n",
       "      <td>100.0</td>\n",
       "      <td>100.0</td>\n",
       "      <td>100.0</td>\n",
       "      <td>100.0</td>\n",
       "    </tr>\n",
       "  </tbody>\n",
       "</table>\n",
       "</div>"
      ],
      "text/plain": [
       "Salários Mínimos        0    1/4    1/2      1      2      3      5     5+  \\\n",
       "Acesso por Celular                                                           \n",
       "Sim                  93.0   94.0   94.0   93.0   92.0   92.0   92.0   94.0   \n",
       "Não                   7.0    6.0    6.0    7.0    8.0    8.0    8.0    6.0   \n",
       "All                 100.0  100.0  100.0  100.0  100.0  100.0  100.0  100.0   \n",
       "\n",
       "Salários Mínimos      All  \n",
       "Acesso por Celular         \n",
       "Sim                  93.0  \n",
       "Não                   7.0  \n",
       "All                 100.0  "
      ]
     },
     "execution_count": 255,
     "metadata": {},
     "output_type": "execute_result"
    }
   ],
   "source": [
    "ct3=pd.crosstab(df.CELULAR,df.RENDA,margins=True,rownames=['Acesso por Celular'], colnames=['Salários Mínimos']).apply(percConvert, axis=0)\n",
    "ct3\n"
   ]
  },
  {
   "cell_type": "code",
   "execution_count": 256,
   "metadata": {},
   "outputs": [
    {
     "data": {
      "text/plain": [
       "<matplotlib.text.Text at 0x22708ddca20>"
      ]
     },
     "execution_count": 256,
     "metadata": {},
     "output_type": "execute_result"
    },
    {
     "data": {
      "image/png": "[encoded data removed]",
      "text/plain": [
       "<matplotlib.figure.Figure at 0x2270bb00a20>"
      ]
     },
     "metadata": {},
     "output_type": "display_data"
    }
   ],
   "source": [
    "ct3 = ct3.iloc[0:1]\n",
    "plot = ct3.plot(kind='bar',title='Acesso à Internet por celular por Renda',figsize=(6, 6))\n",
    "plt.ylabel('Frequencia (%)')\n",
    "plt.xlabel('Renda(Salários Mínimos)')"
   ]
  },
  {
   "cell_type": "markdown",
   "metadata": {},
   "source": [
    "#A renda praticamente não afeta o uso de Internet pelo celular."
   ]
  },
  {
   "cell_type": "code",
   "execution_count": 257,
   "metadata": {},
   "outputs": [
    {
     "data": {
      "text/html": [
       "<div>\n",
       "<style>\n",
       "    .dataframe thead tr:only-child th {\n",
       "        text-align: right;\n",
       "    }\n",
       "\n",
       "    .dataframe thead th {\n",
       "        text-align: left;\n",
       "    }\n",
       "\n",
       "    .dataframe tbody tr th {\n",
       "        vertical-align: top;\n",
       "    }\n",
       "</style>\n",
       "<table border=\"1\" class=\"dataframe\">\n",
       "  <thead>\n",
       "    <tr style=\"text-align: right;\">\n",
       "      <th>Salários Mínimos</th>\n",
       "      <th>0</th>\n",
       "      <th>1/4</th>\n",
       "      <th>1/2</th>\n",
       "      <th>1</th>\n",
       "      <th>2</th>\n",
       "      <th>3</th>\n",
       "      <th>5</th>\n",
       "      <th>5+</th>\n",
       "      <th>All</th>\n",
       "    </tr>\n",
       "    <tr>\n",
       "      <th>Acesso por PC</th>\n",
       "      <th></th>\n",
       "      <th></th>\n",
       "      <th></th>\n",
       "      <th></th>\n",
       "      <th></th>\n",
       "      <th></th>\n",
       "      <th></th>\n",
       "      <th></th>\n",
       "      <th></th>\n",
       "    </tr>\n",
       "  </thead>\n",
       "  <tbody>\n",
       "    <tr>\n",
       "      <th>Sim</th>\n",
       "      <td>62.0</td>\n",
       "      <td>30.0</td>\n",
       "      <td>42.0</td>\n",
       "      <td>57.0</td>\n",
       "      <td>72.0</td>\n",
       "      <td>84.0</td>\n",
       "      <td>90.0</td>\n",
       "      <td>94.0</td>\n",
       "      <td>67.0</td>\n",
       "    </tr>\n",
       "    <tr>\n",
       "      <th>Não</th>\n",
       "      <td>38.0</td>\n",
       "      <td>70.0</td>\n",
       "      <td>58.0</td>\n",
       "      <td>43.0</td>\n",
       "      <td>28.0</td>\n",
       "      <td>16.0</td>\n",
       "      <td>10.0</td>\n",
       "      <td>6.0</td>\n",
       "      <td>33.0</td>\n",
       "    </tr>\n",
       "    <tr>\n",
       "      <th>All</th>\n",
       "      <td>100.0</td>\n",
       "      <td>100.0</td>\n",
       "      <td>100.0</td>\n",
       "      <td>100.0</td>\n",
       "      <td>100.0</td>\n",
       "      <td>100.0</td>\n",
       "      <td>100.0</td>\n",
       "      <td>100.0</td>\n",
       "      <td>100.0</td>\n",
       "    </tr>\n",
       "  </tbody>\n",
       "</table>\n",
       "</div>"
      ],
      "text/plain": [
       "Salários Mínimos      0    1/4    1/2      1      2      3      5     5+  \\\n",
       "Acesso por PC                                                              \n",
       "Sim                62.0   30.0   42.0   57.0   72.0   84.0   90.0   94.0   \n",
       "Não                38.0   70.0   58.0   43.0   28.0   16.0   10.0    6.0   \n",
       "All               100.0  100.0  100.0  100.0  100.0  100.0  100.0  100.0   \n",
       "\n",
       "Salários Mínimos    All  \n",
       "Acesso por PC            \n",
       "Sim                67.0  \n",
       "Não                33.0  \n",
       "All               100.0  "
      ]
     },
     "execution_count": 257,
     "metadata": {},
     "output_type": "execute_result"
    }
   ],
   "source": [
    "ct2=pd.crosstab(df.MICRO,df.RENDA,margins=True,rownames=['Acesso por PC'], colnames=['Salários Mínimos']).apply(percConvert, axis=0)\n",
    "ct2"
   ]
  },
  {
   "cell_type": "code",
   "execution_count": 258,
   "metadata": {},
   "outputs": [
    {
     "data": {
      "text/plain": [
       "<matplotlib.text.Text at 0x22708fc9f60>"
      ]
     },
     "execution_count": 258,
     "metadata": {},
     "output_type": "execute_result"
    },
    {
     "data": {
      "image/png": "[encoded data removed]",
      "text/plain": [
       "<matplotlib.figure.Figure at 0x22708daeb70>"
      ]
     },
     "metadata": {},
     "output_type": "display_data"
    }
   ],
   "source": [
    "ct2 = ct2.iloc[0:1]\n",
    "plot = ct2.plot(kind='bar',title='Acesso à Internet por PC por Renda',figsize=(6, 6))\n",
    "plt.ylabel('Frequencia (%)')\n",
    "plt.xlabel('Renda(Salários Mínimos)')"
   ]
  },
  {
   "cell_type": "markdown",
   "metadata": {},
   "source": [
    "#O uso de computadores para acessar à Internet geralmente aumenta com a renda."
   ]
  },
  {
   "cell_type": "code",
   "execution_count": 259,
   "metadata": {},
   "outputs": [
    {
     "data": {
      "text/html": [
       "<div>\n",
       "<style>\n",
       "    .dataframe thead tr:only-child th {\n",
       "        text-align: right;\n",
       "    }\n",
       "\n",
       "    .dataframe thead th {\n",
       "        text-align: left;\n",
       "    }\n",
       "\n",
       "    .dataframe tbody tr th {\n",
       "        vertical-align: top;\n",
       "    }\n",
       "</style>\n",
       "<table border=\"1\" class=\"dataframe\">\n",
       "  <thead>\n",
       "    <tr style=\"text-align: right;\">\n",
       "      <th>Salários Mínimos</th>\n",
       "      <th>0</th>\n",
       "      <th>1/4</th>\n",
       "      <th>1/2</th>\n",
       "      <th>1</th>\n",
       "      <th>2</th>\n",
       "      <th>3</th>\n",
       "      <th>5</th>\n",
       "      <th>5+</th>\n",
       "      <th>All</th>\n",
       "    </tr>\n",
       "    <tr>\n",
       "      <th>Acesso por Tablet</th>\n",
       "      <th></th>\n",
       "      <th></th>\n",
       "      <th></th>\n",
       "      <th></th>\n",
       "      <th></th>\n",
       "      <th></th>\n",
       "      <th></th>\n",
       "      <th></th>\n",
       "      <th></th>\n",
       "    </tr>\n",
       "  </thead>\n",
       "  <tbody>\n",
       "    <tr>\n",
       "      <th>Sim</th>\n",
       "      <td>16.0</td>\n",
       "      <td>8.0</td>\n",
       "      <td>10.0</td>\n",
       "      <td>14.0</td>\n",
       "      <td>18.0</td>\n",
       "      <td>26.0</td>\n",
       "      <td>34.0</td>\n",
       "      <td>47.0</td>\n",
       "      <td>20.0</td>\n",
       "    </tr>\n",
       "    <tr>\n",
       "      <th>Não</th>\n",
       "      <td>84.0</td>\n",
       "      <td>92.0</td>\n",
       "      <td>90.0</td>\n",
       "      <td>86.0</td>\n",
       "      <td>82.0</td>\n",
       "      <td>74.0</td>\n",
       "      <td>66.0</td>\n",
       "      <td>53.0</td>\n",
       "      <td>80.0</td>\n",
       "    </tr>\n",
       "    <tr>\n",
       "      <th>All</th>\n",
       "      <td>100.0</td>\n",
       "      <td>100.0</td>\n",
       "      <td>100.0</td>\n",
       "      <td>100.0</td>\n",
       "      <td>100.0</td>\n",
       "      <td>100.0</td>\n",
       "      <td>100.0</td>\n",
       "      <td>100.0</td>\n",
       "      <td>100.0</td>\n",
       "    </tr>\n",
       "  </tbody>\n",
       "</table>\n",
       "</div>"
      ],
      "text/plain": [
       "Salários Mínimos       0    1/4    1/2      1      2      3      5     5+  \\\n",
       "Acesso por Tablet                                                           \n",
       "Sim                 16.0    8.0   10.0   14.0   18.0   26.0   34.0   47.0   \n",
       "Não                 84.0   92.0   90.0   86.0   82.0   74.0   66.0   53.0   \n",
       "All                100.0  100.0  100.0  100.0  100.0  100.0  100.0  100.0   \n",
       "\n",
       "Salários Mínimos     All  \n",
       "Acesso por Tablet         \n",
       "Sim                 20.0  \n",
       "Não                 80.0  \n",
       "All                100.0  "
      ]
     },
     "execution_count": 259,
     "metadata": {},
     "output_type": "execute_result"
    }
   ],
   "source": [
    "ct4=pd.crosstab(df.TABLET,df.RENDA,margins=True,rownames=['Acesso por Tablet'], colnames=['Salários Mínimos']).apply(percConvert, axis=0)\n",
    "ct4"
   ]
  },
  {
   "cell_type": "code",
   "execution_count": 260,
   "metadata": {},
   "outputs": [
    {
     "data": {
      "text/plain": [
       "<matplotlib.text.Text at 0x22708d906d8>"
      ]
     },
     "execution_count": 260,
     "metadata": {},
     "output_type": "execute_result"
    },
    {
     "data": {
      "image/png": "[encoded data removed]",
      "text/plain": [
       "<matplotlib.figure.Figure at 0x227080427f0>"
      ]
     },
     "metadata": {},
     "output_type": "display_data"
    }
   ],
   "source": [
    "ct4 = ct4.iloc[0:1]\n",
    "plot = ct4.plot(kind='bar',title='Acesso à Internet por Tablet por Renda',figsize=(6, 6))\n",
    "plt.ylabel('Frequencia (%)')\n",
    "plt.xlabel('Renda(Salários Mínimos)')"
   ]
  },
  {
   "cell_type": "markdown",
   "metadata": {},
   "source": [
    "#O uso da Tablets para acessar a Internet aumenta com renda, com a excessão da renda 0."
   ]
  },
  {
   "cell_type": "code",
   "execution_count": 261,
   "metadata": {},
   "outputs": [
    {
     "data": {
      "text/html": [
       "<div>\n",
       "<style>\n",
       "    .dataframe thead tr:only-child th {\n",
       "        text-align: right;\n",
       "    }\n",
       "\n",
       "    .dataframe thead th {\n",
       "        text-align: left;\n",
       "    }\n",
       "\n",
       "    .dataframe tbody tr th {\n",
       "        vertical-align: top;\n",
       "    }\n",
       "</style>\n",
       "<table border=\"1\" class=\"dataframe\">\n",
       "  <thead>\n",
       "    <tr style=\"text-align: right;\">\n",
       "      <th>Salários Mínimos</th>\n",
       "      <th>0</th>\n",
       "      <th>1/4</th>\n",
       "      <th>1/2</th>\n",
       "      <th>1</th>\n",
       "      <th>2</th>\n",
       "      <th>3</th>\n",
       "      <th>5</th>\n",
       "      <th>5+</th>\n",
       "      <th>All</th>\n",
       "    </tr>\n",
       "    <tr>\n",
       "      <th>Acesso por Outros</th>\n",
       "      <th></th>\n",
       "      <th></th>\n",
       "      <th></th>\n",
       "      <th></th>\n",
       "      <th></th>\n",
       "      <th></th>\n",
       "      <th></th>\n",
       "      <th></th>\n",
       "      <th></th>\n",
       "    </tr>\n",
       "  </thead>\n",
       "  <tbody>\n",
       "    <tr>\n",
       "      <th>Sim</th>\n",
       "      <td>2.0</td>\n",
       "      <td>0.0</td>\n",
       "      <td>0.0</td>\n",
       "      <td>0.0</td>\n",
       "      <td>1.0</td>\n",
       "      <td>1.0</td>\n",
       "      <td>2.0</td>\n",
       "      <td>3.0</td>\n",
       "      <td>1.0</td>\n",
       "    </tr>\n",
       "    <tr>\n",
       "      <th>Não</th>\n",
       "      <td>98.0</td>\n",
       "      <td>100.0</td>\n",
       "      <td>100.0</td>\n",
       "      <td>100.0</td>\n",
       "      <td>99.0</td>\n",
       "      <td>99.0</td>\n",
       "      <td>98.0</td>\n",
       "      <td>97.0</td>\n",
       "      <td>99.0</td>\n",
       "    </tr>\n",
       "    <tr>\n",
       "      <th>All</th>\n",
       "      <td>100.0</td>\n",
       "      <td>100.0</td>\n",
       "      <td>100.0</td>\n",
       "      <td>100.0</td>\n",
       "      <td>100.0</td>\n",
       "      <td>100.0</td>\n",
       "      <td>100.0</td>\n",
       "      <td>100.0</td>\n",
       "      <td>100.0</td>\n",
       "    </tr>\n",
       "  </tbody>\n",
       "</table>\n",
       "</div>"
      ],
      "text/plain": [
       "Salários Mínimos       0    1/4    1/2      1      2      3      5     5+  \\\n",
       "Acesso por Outros                                                           \n",
       "Sim                  2.0    0.0    0.0    0.0    1.0    1.0    2.0    3.0   \n",
       "Não                 98.0  100.0  100.0  100.0   99.0   99.0   98.0   97.0   \n",
       "All                100.0  100.0  100.0  100.0  100.0  100.0  100.0  100.0   \n",
       "\n",
       "Salários Mínimos     All  \n",
       "Acesso por Outros         \n",
       "Sim                  1.0  \n",
       "Não                 99.0  \n",
       "All                100.0  "
      ]
     },
     "execution_count": 261,
     "metadata": {},
     "output_type": "execute_result"
    }
   ],
   "source": [
    "ct5=pd.crosstab(df.OUTROS,df.RENDA,margins=True,rownames=['Acesso por Outros'], colnames=['Salários Mínimos']).apply(percConvert, axis=0)\n",
    "ct5"
   ]
  },
  {
   "cell_type": "code",
   "execution_count": 262,
   "metadata": {},
   "outputs": [
    {
     "data": {
      "text/plain": [
       "<matplotlib.text.Text at 0x22703042128>"
      ]
     },
     "execution_count": 262,
     "metadata": {},
     "output_type": "execute_result"
    },
    {
     "data": {
      "image/png": "[encoded data removed]",
      "text/plain": [
       "<matplotlib.figure.Figure at 0x22703042320>"
      ]
     },
     "metadata": {},
     "output_type": "display_data"
    }
   ],
   "source": [
    "ct5 = ct5.iloc[0:1]\n",
    "plot = ct5.plot(kind='bar',title='Acesso à Internet por outros meios por Renda',figsize=(6, 6))\n",
    "plt.ylabel('Frequencia (%)')\n",
    "plt.xlabel('Renda(Salários Mínimos)')"
   ]
  },
  {
   "cell_type": "markdown",
   "metadata": {},
   "source": [
    "#Outros aparelhos são muito pouco usados para acessar à internet."
   ]
  },
  {
   "cell_type": "code",
   "execution_count": 264,
   "metadata": {},
   "outputs": [
    {
     "name": "stdout",
     "output_type": "stream",
     "text": [
      "{'RENDA': ['0', '1/4', '1/2', '1', '2', '3', '5', '5+'], 'MICRO': [206, 700, 3301, 10148, 14391, 6072, 5006, 4921], 'TV': [18, 31, 122, 504, 1136, 719, 877, 1314], 'CELULAR': [307, 2189, 7435, 16668, 18374, 6630, 5104, 4914], 'TABLET': [54, 188, 829, 2561, 3604, 1844, 1873, 2464], 'OUTROS': [7, 2, 15, 84, 148, 89, 119, 138]}\n"
     ]
    }
   ],
   "source": [
    "fd = {'RENDA':['0', '1/4','1/2','1','2','3','5','5+'],'MICRO':[],'TV':[],'CELULAR':[],'TABLET':[],'OUTROS':[]}\n",
    "coi = ['MICRO','CELULAR','TV','TABLET','OUTROS']\n",
    "for a in range(len(fd['RENDA'])):\n",
    "    for b in coi:\n",
    "        nd = df.loc[df['RENDA'] == fd['RENDA'][a]]\n",
    "        fd[b].append(len(nd.loc[df[b] == 'Sim']))\n",
    "#del fd['RENDA']\n",
    "#print(fd)"
   ]
  },
  {
   "cell_type": "markdown",
   "metadata": {},
   "source": [
    "#Agora veremos o uso de dispositivos de acesso à Internet em números absolutos."
   ]
  },
  {
   "cell_type": "code",
   "execution_count": 265,
   "metadata": {},
   "outputs": [
    {
     "data": {
      "text/html": [
       "<div>\n",
       "<style>\n",
       "    .dataframe thead tr:only-child th {\n",
       "        text-align: right;\n",
       "    }\n",
       "\n",
       "    .dataframe thead th {\n",
       "        text-align: left;\n",
       "    }\n",
       "\n",
       "    .dataframe tbody tr th {\n",
       "        vertical-align: top;\n",
       "    }\n",
       "</style>\n",
       "<table border=\"1\" class=\"dataframe\">\n",
       "  <thead>\n",
       "    <tr style=\"text-align: right;\">\n",
       "      <th></th>\n",
       "      <th>CELULAR</th>\n",
       "      <th>MICRO</th>\n",
       "      <th>OUTROS</th>\n",
       "      <th>TABLET</th>\n",
       "      <th>TV</th>\n",
       "    </tr>\n",
       "    <tr>\n",
       "      <th>RENDA</th>\n",
       "      <th></th>\n",
       "      <th></th>\n",
       "      <th></th>\n",
       "      <th></th>\n",
       "      <th></th>\n",
       "    </tr>\n",
       "  </thead>\n",
       "  <tbody>\n",
       "    <tr>\n",
       "      <th>0</th>\n",
       "      <td>307</td>\n",
       "      <td>206</td>\n",
       "      <td>7</td>\n",
       "      <td>54</td>\n",
       "      <td>18</td>\n",
       "    </tr>\n",
       "    <tr>\n",
       "      <th>1/4</th>\n",
       "      <td>2189</td>\n",
       "      <td>700</td>\n",
       "      <td>2</td>\n",
       "      <td>188</td>\n",
       "      <td>31</td>\n",
       "    </tr>\n",
       "    <tr>\n",
       "      <th>1/2</th>\n",
       "      <td>7435</td>\n",
       "      <td>3301</td>\n",
       "      <td>15</td>\n",
       "      <td>829</td>\n",
       "      <td>122</td>\n",
       "    </tr>\n",
       "    <tr>\n",
       "      <th>1</th>\n",
       "      <td>16668</td>\n",
       "      <td>10148</td>\n",
       "      <td>84</td>\n",
       "      <td>2561</td>\n",
       "      <td>504</td>\n",
       "    </tr>\n",
       "    <tr>\n",
       "      <th>2</th>\n",
       "      <td>18374</td>\n",
       "      <td>14391</td>\n",
       "      <td>148</td>\n",
       "      <td>3604</td>\n",
       "      <td>1136</td>\n",
       "    </tr>\n",
       "    <tr>\n",
       "      <th>3</th>\n",
       "      <td>6630</td>\n",
       "      <td>6072</td>\n",
       "      <td>89</td>\n",
       "      <td>1844</td>\n",
       "      <td>719</td>\n",
       "    </tr>\n",
       "    <tr>\n",
       "      <th>5</th>\n",
       "      <td>5104</td>\n",
       "      <td>5006</td>\n",
       "      <td>119</td>\n",
       "      <td>1873</td>\n",
       "      <td>877</td>\n",
       "    </tr>\n",
       "    <tr>\n",
       "      <th>5+</th>\n",
       "      <td>4914</td>\n",
       "      <td>4921</td>\n",
       "      <td>138</td>\n",
       "      <td>2464</td>\n",
       "      <td>1314</td>\n",
       "    </tr>\n",
       "  </tbody>\n",
       "</table>\n",
       "</div>"
      ],
      "text/plain": [
       "       CELULAR  MICRO  OUTROS  TABLET    TV\n",
       "RENDA                                      \n",
       "0          307    206       7      54    18\n",
       "1/4       2189    700       2     188    31\n",
       "1/2       7435   3301      15     829   122\n",
       "1        16668  10148      84    2561   504\n",
       "2        18374  14391     148    3604  1136\n",
       "3         6630   6072      89    1844   719\n",
       "5         5104   5006     119    1873   877\n",
       "5+        4914   4921     138    2464  1314"
      ]
     },
     "execution_count": 265,
     "metadata": {},
     "output_type": "execute_result"
    }
   ],
   "source": [
    "dff = pd.DataFrame.from_dict(fd).set_index('RENDA')\n",
    "dff"
   ]
  },
  {
   "cell_type": "code",
   "execution_count": 266,
   "metadata": {},
   "outputs": [
    {
     "data": {
      "text/plain": [
       "<matplotlib.text.Text at 0x227066565c0>"
      ]
     },
     "execution_count": 266,
     "metadata": {},
     "output_type": "execute_result"
    },
    {
     "data": {
      "image/png": "[encoded data removed]",
      "text/plain": [
       "<matplotlib.figure.Figure at 0x2270b9cd630>"
      ]
     },
     "metadata": {},
     "output_type": "display_data"
    }
   ],
   "source": [
    "ut3 = dff.plot(kind='bar', title=\"Modo de acesso à Internet por renda\")\n",
    "plt.ylabel('Frequencia absoluta')\n",
    "plt.xlabel('Renda(Salários Mínimos)')"
   ]
  },
  {
   "cell_type": "markdown",
   "metadata": {},
   "source": [
    "#A maioria dos domicílios com acesso à internet está na facha de renda de um ou dois salários mínimos e uma parcela muito pequena dos domicílios tem renda de 0 salários mínimos."
   ]
  },
  {
   "cell_type": "markdown",
   "metadata": {},
   "source": [
    "###### ___\n",
    "## Conclusão "
   ]
  },
  {
   "cell_type": "markdown",
   "metadata": {
    "collapsed": true
   },
   "source": [
    "Descobrimos que, em 2015, o Brasil tinha 57,7% dos domicílios com acesso à internet e que o acesso à internet cresce em termos percentuais quanto maior a renda.  A maior parte do acesso à internet se dá, em todas as faixas de renda, pelo celular, não havendo diferenças significativas entre domicilios mais ricos e mais pobres. Já o acesso por outros meios, TV, computador e tablet, cresce, em termos percentuais, com o crescimento da renda, sendo tv o meio em que o impacto da renda é maior. Podemos concluir que a hipótese foi confirmada, com domicílios de maior renda tendo percentualmente mais acesso à internet e mais meios de acesso à internet do que os domicílios de menor renda.  "
   ]
  }
 ],
 "metadata": {
  "anaconda-cloud": {},
  "kernelspec": {
   "display_name": "Python 3",
   "language": "python",
   "name": "python3"
  },
  "language_info": {
   "codemirror_mode": {
    "name": "ipython",
    "version": 3
   },
   "file_extension": ".py",
   "mimetype": "text/x-python",
   "name": "python",
   "nbconvert_exporter": "python",
   "pygments_lexer": "ipython3",
   "version": "3.6.1"
  }
 },
 "nbformat": 4,
 "nbformat_minor": 1
}
